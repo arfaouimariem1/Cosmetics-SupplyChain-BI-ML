{
 "cells": [
  {
   "cell_type": "markdown",
   "id": "f6c22a71",
   "metadata": {},
   "source": [
    "# Supervisé : Regression \n"
   ]
  },
  {
   "cell_type": "markdown",
   "id": "5a8f78b7",
   "metadata": {},
   "source": [
    "\n",
    "# Prédire le prix d'un nouveau produit selon les caracteristiques(XGBoost, Linear Regression, Decision Tree)"
   ]
  },
  {
   "cell_type": "code",
   "execution_count": 2,
   "id": "9fb10965",
   "metadata": {},
   "outputs": [
    {
     "name": "stderr",
     "output_type": "stream",
     "text": [
      "C:\\Users\\user\\AppData\\Local\\Temp\\ipykernel_35032\\295622055.py:49: UserWarning: pandas only supports SQLAlchemy connectable (engine/connection) or database string URI or sqlite3 DBAPI2 connection. Other DBAPI2 objects are not tested. Please consider using SQLAlchemy.\n",
      "  df = pd.read_sql(query, conn)\n"
     ]
    }
   ],
   "source": [
    "import pandas as pd\n",
    "import pyodbc\n",
    "from sklearn.model_selection import train_test_split\n",
    "from sklearn.preprocessing import LabelEncoder\n",
    "from sklearn.metrics import mean_squared_error, mean_absolute_error, r2_score\n",
    "import matplotlib.pyplot as plt\n",
    "import xgboost as xgb\n",
    "from xgboost import XGBRegressor\n",
    "\n",
    "import numpy as np\n",
    "\n",
    "# 1. Connexion à SQL Server\n",
    "\n",
    "conn = pyodbc.connect(\n",
    "    'DRIVER={SQL Server};'\n",
    "    'SERVER=localhost;'  \n",
    "    'DATABASE=SuplyChain_DataWarehouse;'\n",
    "    'Trusted_Connection=yes;'\n",
    ")\n",
    "\n",
    "# 2. Requête SQL (features pertinentes uniquement)\n",
    "\n",
    "query = \"\"\"\n",
    "SELECT \n",
    "    fs.Prix_Unitaire_TND_1, \n",
    "    fs.Quantite,\n",
    "    cat.Category AS ProductCategory,\n",
    "    b.brandname AS Brand,\n",
    "    shop.shopname AS Shop,\n",
    "    d.Year, d.Month,\n",
    "    DATEDIFF(DAY, prod.ProductionStartDate_PK, prod.ProductionEndDate_PK) AS ProductionDuration,\n",
    "    (\n",
    "        SELECT COUNT(*) \n",
    "        FROM Fact_Dosage fd \n",
    "        WHERE fd.Prod_FK = p.Product_PK\n",
    "    ) AS NbMaterials\n",
    "FROM Fact_Sales fs\n",
    "JOIN Dim_Product p         ON fs.Product_PK = p.Product_PK\n",
    "JOIN Dim_Category cat      ON p.Category_FK = cat.Category_PK\n",
    "JOIN Dim_Brand b           ON p.Brand_FK = b.Brand_PK\n",
    "JOIN Dim_Shop shop         ON fs.Shop_PK = shop.Shop_PK\n",
    "JOIN Dim_Date d            ON fs.Date_FK = d.Date_PK\n",
    "LEFT JOIN fact_production prod ON prod.Product_PK = fs.Product_PK\n",
    "\"\"\"\n",
    "\n",
    "\n",
    "# 3. Charger les données\n",
    "\n",
    "df = pd.read_sql(query, conn)\n",
    "conn.close()\n",
    "\n"
   ]
  },
  {
   "cell_type": "code",
   "execution_count": 3,
   "id": "5b58a4a2",
   "metadata": {},
   "outputs": [],
   "source": [
    "\n",
    "# 4. Nettoyage et préparation\n",
    "\n",
    "df.fillna({\n",
    "    'ProductionDuration': 0,\n",
    "    'NbMaterials': 0\n",
    "}, inplace=True)\n",
    "\n",
    "df = df[df['Prix_Unitaire_TND_1'] > 0]  # enlever cibles invalides\n",
    "\n"
   ]
  },
  {
   "cell_type": "code",
   "execution_count": 4,
   "id": "5535173d",
   "metadata": {},
   "outputs": [
    {
     "data": {
      "text/html": [
       "<div>\n",
       "<style scoped>\n",
       "    .dataframe tbody tr th:only-of-type {\n",
       "        vertical-align: middle;\n",
       "    }\n",
       "\n",
       "    .dataframe tbody tr th {\n",
       "        vertical-align: top;\n",
       "    }\n",
       "\n",
       "    .dataframe thead th {\n",
       "        text-align: right;\n",
       "    }\n",
       "</style>\n",
       "<table border=\"1\" class=\"dataframe\">\n",
       "  <thead>\n",
       "    <tr style=\"text-align: right;\">\n",
       "      <th></th>\n",
       "      <th>Prix_Unitaire_TND_1</th>\n",
       "      <th>Quantite</th>\n",
       "      <th>ProductCategory</th>\n",
       "      <th>Brand</th>\n",
       "      <th>Shop</th>\n",
       "      <th>Year</th>\n",
       "      <th>Month</th>\n",
       "      <th>ProductionDuration</th>\n",
       "      <th>NbMaterials</th>\n",
       "    </tr>\n",
       "  </thead>\n",
       "  <tbody>\n",
       "    <tr>\n",
       "      <th>0</th>\n",
       "      <td>160.630005</td>\n",
       "      <td>14</td>\n",
       "      <td>Makeup</td>\n",
       "      <td>hansen hopkins and smith</td>\n",
       "      <td>eclat studio</td>\n",
       "      <td>2024</td>\n",
       "      <td>04</td>\n",
       "      <td>23.0</td>\n",
       "      <td>4</td>\n",
       "    </tr>\n",
       "    <tr>\n",
       "      <th>1</th>\n",
       "      <td>160.630005</td>\n",
       "      <td>7</td>\n",
       "      <td>Makeup</td>\n",
       "      <td>hansen hopkins and smith</td>\n",
       "      <td>eclat studio</td>\n",
       "      <td>2024</td>\n",
       "      <td>10</td>\n",
       "      <td>23.0</td>\n",
       "      <td>4</td>\n",
       "    </tr>\n",
       "    <tr>\n",
       "      <th>2</th>\n",
       "      <td>160.630005</td>\n",
       "      <td>14</td>\n",
       "      <td>Makeup</td>\n",
       "      <td>hansen hopkins and smith</td>\n",
       "      <td>eclat studio</td>\n",
       "      <td>2024</td>\n",
       "      <td>04</td>\n",
       "      <td>23.0</td>\n",
       "      <td>4</td>\n",
       "    </tr>\n",
       "    <tr>\n",
       "      <th>3</th>\n",
       "      <td>160.630005</td>\n",
       "      <td>7</td>\n",
       "      <td>Makeup</td>\n",
       "      <td>hansen hopkins and smith</td>\n",
       "      <td>eclat studio</td>\n",
       "      <td>2024</td>\n",
       "      <td>10</td>\n",
       "      <td>23.0</td>\n",
       "      <td>4</td>\n",
       "    </tr>\n",
       "    <tr>\n",
       "      <th>4</th>\n",
       "      <td>160.630005</td>\n",
       "      <td>14</td>\n",
       "      <td>Makeup</td>\n",
       "      <td>hansen hopkins and smith</td>\n",
       "      <td>eclat studio</td>\n",
       "      <td>2024</td>\n",
       "      <td>04</td>\n",
       "      <td>23.0</td>\n",
       "      <td>4</td>\n",
       "    </tr>\n",
       "    <tr>\n",
       "      <th>...</th>\n",
       "      <td>...</td>\n",
       "      <td>...</td>\n",
       "      <td>...</td>\n",
       "      <td>...</td>\n",
       "      <td>...</td>\n",
       "      <td>...</td>\n",
       "      <td>...</td>\n",
       "      <td>...</td>\n",
       "      <td>...</td>\n",
       "    </tr>\n",
       "    <tr>\n",
       "      <th>23074</th>\n",
       "      <td>108.599998</td>\n",
       "      <td>16</td>\n",
       "      <td>Makeup</td>\n",
       "      <td>anthony colon and jimenez</td>\n",
       "      <td>eclat studio</td>\n",
       "      <td>2022</td>\n",
       "      <td>06</td>\n",
       "      <td>0.0</td>\n",
       "      <td>5</td>\n",
       "    </tr>\n",
       "    <tr>\n",
       "      <th>23075</th>\n",
       "      <td>147.199997</td>\n",
       "      <td>12</td>\n",
       "      <td>Bodycare</td>\n",
       "      <td>hansen hopkins and smith</td>\n",
       "      <td>beaute elegante</td>\n",
       "      <td>2023</td>\n",
       "      <td>02</td>\n",
       "      <td>0.0</td>\n",
       "      <td>2</td>\n",
       "    </tr>\n",
       "    <tr>\n",
       "      <th>23076</th>\n",
       "      <td>36.610001</td>\n",
       "      <td>16</td>\n",
       "      <td>Makeup</td>\n",
       "      <td>rogers thompson</td>\n",
       "      <td>cosmetiques radiance</td>\n",
       "      <td>2023</td>\n",
       "      <td>02</td>\n",
       "      <td>0.0</td>\n",
       "      <td>5</td>\n",
       "    </tr>\n",
       "    <tr>\n",
       "      <th>23077</th>\n",
       "      <td>36.610001</td>\n",
       "      <td>11</td>\n",
       "      <td>Makeup</td>\n",
       "      <td>rogers thompson</td>\n",
       "      <td>cosmetiques radiance</td>\n",
       "      <td>2023</td>\n",
       "      <td>10</td>\n",
       "      <td>0.0</td>\n",
       "      <td>5</td>\n",
       "    </tr>\n",
       "    <tr>\n",
       "      <th>23078</th>\n",
       "      <td>178.059998</td>\n",
       "      <td>6</td>\n",
       "      <td>Fragrance</td>\n",
       "      <td>lyons zuniga and wolf</td>\n",
       "      <td>cosmetiques radiance</td>\n",
       "      <td>2023</td>\n",
       "      <td>10</td>\n",
       "      <td>0.0</td>\n",
       "      <td>5</td>\n",
       "    </tr>\n",
       "  </tbody>\n",
       "</table>\n",
       "<p>23079 rows × 9 columns</p>\n",
       "</div>"
      ],
      "text/plain": [
       "       Prix_Unitaire_TND_1  Quantite ProductCategory  \\\n",
       "0               160.630005        14          Makeup   \n",
       "1               160.630005         7          Makeup   \n",
       "2               160.630005        14          Makeup   \n",
       "3               160.630005         7          Makeup   \n",
       "4               160.630005        14          Makeup   \n",
       "...                    ...       ...             ...   \n",
       "23074           108.599998        16          Makeup   \n",
       "23075           147.199997        12        Bodycare   \n",
       "23076            36.610001        16          Makeup   \n",
       "23077            36.610001        11          Makeup   \n",
       "23078           178.059998         6       Fragrance   \n",
       "\n",
       "                           Brand                  Shop  Year Month  \\\n",
       "0       hansen hopkins and smith          eclat studio  2024    04   \n",
       "1       hansen hopkins and smith          eclat studio  2024    10   \n",
       "2       hansen hopkins and smith          eclat studio  2024    04   \n",
       "3       hansen hopkins and smith          eclat studio  2024    10   \n",
       "4       hansen hopkins and smith          eclat studio  2024    04   \n",
       "...                          ...                   ...   ...   ...   \n",
       "23074  anthony colon and jimenez          eclat studio  2022    06   \n",
       "23075   hansen hopkins and smith       beaute elegante  2023    02   \n",
       "23076            rogers thompson  cosmetiques radiance  2023    02   \n",
       "23077            rogers thompson  cosmetiques radiance  2023    10   \n",
       "23078      lyons zuniga and wolf  cosmetiques radiance  2023    10   \n",
       "\n",
       "       ProductionDuration  NbMaterials  \n",
       "0                    23.0            4  \n",
       "1                    23.0            4  \n",
       "2                    23.0            4  \n",
       "3                    23.0            4  \n",
       "4                    23.0            4  \n",
       "...                   ...          ...  \n",
       "23074                 0.0            5  \n",
       "23075                 0.0            2  \n",
       "23076                 0.0            5  \n",
       "23077                 0.0            5  \n",
       "23078                 0.0            5  \n",
       "\n",
       "[23079 rows x 9 columns]"
      ]
     },
     "execution_count": 4,
     "metadata": {},
     "output_type": "execute_result"
    }
   ],
   "source": [
    "df"
   ]
  },
  {
   "cell_type": "code",
   "execution_count": 5,
   "id": "80b20bc3",
   "metadata": {},
   "outputs": [],
   "source": [
    "# Variables explicatives (X) et cible (y)\n",
    "X = df.drop(columns=[\"Prix_Unitaire_TND_1\"])\n",
    "y = df[\"Prix_Unitaire_TND_1\"]\n",
    "\n"
   ]
  },
  {
   "cell_type": "code",
   "execution_count": 6,
   "id": "644d22b7",
   "metadata": {},
   "outputs": [],
   "source": [
    "# Encodage des colonnes catégorielles\n",
    "cat_cols = X.select_dtypes(include='object').columns\n",
    "\n",
    "for col in cat_cols:\n",
    "    le = LabelEncoder()\n",
    "    X[col] = le.fit_transform(X[col])\n",
    "\n",
    "\n"
   ]
  },
  {
   "cell_type": "code",
   "execution_count": 7,
   "id": "da3d2225",
   "metadata": {},
   "outputs": [],
   "source": [
    "\n",
    "# 5. Split des données\n",
    "\n",
    "X_train, X_test, y_train, y_test = train_test_split(\n",
    "    X, y, test_size=0.2, random_state=42\n",
    ")\n"
   ]
  },
  {
   "cell_type": "code",
   "execution_count": 8,
   "id": "065fb805",
   "metadata": {},
   "outputs": [],
   "source": [
    "\n",
    "# 6. Modèle XGBoost\n",
    "\n",
    "model = xgb.XGBRegressor(\n",
    "    objective='reg:squarederror',\n",
    "    n_estimators=150,\n",
    "    learning_rate=0.1,\n",
    "    max_depth=6,\n",
    "    random_state=42\n",
    ")\n"
   ]
  },
  {
   "cell_type": "code",
   "execution_count": 9,
   "id": "f61a638d",
   "metadata": {},
   "outputs": [
    {
     "name": "stdout",
     "output_type": "stream",
     "text": [
      "✅ Résultat exporté vers table SQL : Estimation_Prix\n",
      " Évaluation du modèle (final optimisé) :\n",
      " RMSE  : 12.29 TND\n",
      " MAE   : 2.21 TND\n",
      " R²    : 0.9480\n",
      " MAPE  : 4.38%\n"
     ]
    },
    {
     "name": "stderr",
     "output_type": "stream",
     "text": [
      "c:\\Users\\user\\anaconda3\\Lib\\site-packages\\sklearn\\metrics\\_regression.py:492: FutureWarning: 'squared' is deprecated in version 1.4 and will be removed in 1.6. To calculate the root mean squared error, use the function'root_mean_squared_error'.\n",
      "  warnings.warn(\n"
     ]
    }
   ],
   "source": [
    "model.fit(X_train, y_train)\n",
    "\n",
    "# 7. Évaluation du modèle\n",
    "\n",
    "y_pred = model.predict(X_test)\n",
    "df['Prix_Estimé'] = model.predict(X)\n",
    "\n",
    "\n",
    "df['Ecart_Pourcentage'] = ((df['Prix_Estimé'] - df['Prix_Unitaire_TND_1']) / df['Prix_Unitaire_TND_1']) * 100\n",
    "from sqlalchemy import create_engine\n",
    "\n",
    "engine = create_engine(\"mssql+pyodbc://localhost/SuplyChain_DataWarehouse?driver=ODBC+Driver+17+for+SQL+Server\")\n",
    "\n",
    "df.to_sql(\"Estimation_Prix\", engine, if_exists=\"replace\", index=False)\n",
    "print(\"✅ Résultat exporté vers table SQL : Estimation_Prix\")\n",
    "\n",
    "\n",
    "rmse = mean_squared_error(y_test, y_pred, squared=False)\n",
    "mae = mean_absolute_error(y_test, y_pred)\n",
    "r2 = r2_score(y_test, y_pred)\n",
    "mape = np.mean(np.abs((y_test - y_pred) / y_test)) * 100\n",
    "\n",
    "print(\" Évaluation du modèle (final optimisé) :\")\n",
    "print(f\" RMSE  : {rmse:.2f} TND\")\n",
    "print(f\" MAE   : {mae:.2f} TND\")\n",
    "print(f\" R²    : {r2:.4f}\")\n",
    "print(f\" MAPE  : {mape:.2f}%\")\n",
    "\n",
    "\n",
    "\n",
    "\n"
   ]
  },
  {
   "cell_type": "code",
   "execution_count": 10,
   "id": "8066f693",
   "metadata": {},
   "outputs": [
    {
     "name": "stdout",
     "output_type": "stream",
     "text": [
      " XGBoost - R² Train : 0.9922038451377962\n",
      " XGBoost - R² Test  : 0.9480485303276203\n"
     ]
    }
   ],
   "source": [
    "# 🔍 Performance sur train et test pour XGBoost\n",
    "train_pred_xgb = model.predict(X_train)\n",
    "test_pred_xgb = model.predict(X_test)\n",
    "\n",
    "train_r2_xgb = r2_score(y_train, train_pred_xgb)\n",
    "test_r2_xgb = r2_score(y_test, test_pred_xgb)\n",
    "\n",
    "print(\" XGBoost - R² Train :\", train_r2_xgb)\n",
    "print(\" XGBoost - R² Test  :\", test_r2_xgb)\n"
   ]
  },
  {
   "cell_type": "code",
   "execution_count": 11,
   "id": "716742dd",
   "metadata": {},
   "outputs": [
    {
     "data": {
      "text/plain": [
       "['xgb_price_model.pkl']"
      ]
     },
     "execution_count": 11,
     "metadata": {},
     "output_type": "execute_result"
    }
   ],
   "source": [
    "import joblib\n",
    "joblib.dump(model, 'xgb_price_model.pkl')\n"
   ]
  },
  {
   "cell_type": "code",
   "execution_count": 12,
   "id": "a55851d2",
   "metadata": {},
   "outputs": [
    {
     "data": {
      "text/plain": [
       "<Figure size 1000x600 with 0 Axes>"
      ]
     },
     "metadata": {},
     "output_type": "display_data"
    },
    {
     "data": {
      "image/png": "[encoded data removed]",
      "text/plain": [
       "<Figure size 640x480 with 1 Axes>"
      ]
     },
     "metadata": {},
     "output_type": "display_data"
    }
   ],
   "source": [
    "\n",
    "# 8. Feature Importance\n",
    "\n",
    "plt.figure(figsize=(10, 6))\n",
    "xgb.plot_importance(model, importance_type='gain', max_num_features=10)\n",
    "plt.title(\"Top Features - XGBoost (Clean)\")\n",
    "plt.show()"
   ]
  },
  {
   "cell_type": "code",
   "execution_count": 13,
   "id": "f3ca21fb",
   "metadata": {},
   "outputs": [
    {
     "name": "stdout",
     "output_type": "stream",
     "text": [
      "MAE : 2.4190576817592304\n",
      "MSE : 179.78822141482485\n",
      "RMSE : 13.408513020272787\n",
      "R² : 0.9382048585989317\n"
     ]
    }
   ],
   "source": [
    "from sklearn.tree import DecisionTreeRegressor\n",
    "\n",
    "#  Créer le modèle\n",
    "tree_model = DecisionTreeRegressor(\n",
    "    max_depth=10,\n",
    "    min_samples_split=5,\n",
    "    min_samples_leaf=3,\n",
    "    random_state=42\n",
    ")\n",
    "\n",
    "\n",
    "#  Entraîner le modèle sur les données d'entraînement\n",
    "tree_model.fit(X_train, y_train)\n",
    "\n",
    "#  Faire des prédictions sur les données de test\n",
    "y_pred_tree = tree_model.predict(X_test)\n",
    "\n",
    "#  Évaluer le modèle\n",
    "print(\"MAE :\", mean_absolute_error(y_test, y_pred_tree))\n",
    "print(\"MSE :\", mean_squared_error(y_test, y_pred_tree))\n",
    "print(\"RMSE :\", mean_squared_error(y_test, y_pred_tree) ** 0.5)\n",
    "print(\"R² :\", r2_score(y_test, y_pred_tree))\n"
   ]
  },
  {
   "cell_type": "code",
   "execution_count": 14,
   "id": "6a4c486a",
   "metadata": {},
   "outputs": [
    {
     "name": "stdout",
     "output_type": "stream",
     "text": [
      " Decision Tree - R² Train : 0.9748498917571449\n",
      " Decision Tree - R² Test  : 0.9382048585989317\n"
     ]
    }
   ],
   "source": [
    "#  Performance sur train et test pour Decision Tree\n",
    "train_pred_tree = tree_model.predict(X_train)\n",
    "test_pred_tree = tree_model.predict(X_test)\n",
    "\n",
    "train_r2_tree = r2_score(y_train, train_pred_tree)\n",
    "test_r2_tree = r2_score(y_test, test_pred_tree)\n",
    "\n",
    "print(\" Decision Tree - R² Train :\", train_r2_tree)\n",
    "print(\" Decision Tree - R² Test  :\", test_r2_tree)\n"
   ]
  },
  {
   "cell_type": "code",
   "execution_count": 15,
   "id": "527af4bc",
   "metadata": {},
   "outputs": [
    {
     "name": "stdout",
     "output_type": "stream",
     "text": [
      "KNN MAE : 2.1225914195257416\n",
      "KNN RMSE: 12.509835023278807\n",
      " KNN R²  : 0.9462106546164695\n"
     ]
    },
    {
     "name": "stderr",
     "output_type": "stream",
     "text": [
      "c:\\Users\\user\\anaconda3\\Lib\\site-packages\\sklearn\\metrics\\_regression.py:492: FutureWarning: 'squared' is deprecated in version 1.4 and will be removed in 1.6. To calculate the root mean squared error, use the function'root_mean_squared_error'.\n",
      "  warnings.warn(\n"
     ]
    },
    {
     "name": "stdout",
     "output_type": "stream",
     "text": [
      "KNN - R² Train : 0.9649149814868658\n",
      "KNN - R² Test  : 0.9462106546164695\n"
     ]
    }
   ],
   "source": [
    "from sklearn.pipeline import Pipeline\n",
    "from sklearn.preprocessing import StandardScaler, OneHotEncoder\n",
    "from sklearn.compose import ColumnTransformer\n",
    "from sklearn.neighbors import KNeighborsRegressor\n",
    "from sklearn.metrics import mean_squared_error, mean_absolute_error, r2_score\n",
    "\n",
    "# Colonnes\n",
    "cat_cols = ['Brand', 'ProductCategory', 'Shop']\n",
    "num_cols = [col for col in X.columns if col not in cat_cols]\n",
    "\n",
    "#  Pipeline de prétraitement\n",
    "preprocessor = ColumnTransformer([\n",
    "    (\"cat\", OneHotEncoder(handle_unknown='ignore'), cat_cols),\n",
    "    (\"num\", StandardScaler(), num_cols)\n",
    "])\n",
    "\n",
    "#  Pipeline complet\n",
    "knn_pipeline = Pipeline([\n",
    "    (\"preproc\", preprocessor),\n",
    "    (\"model\", KNeighborsRegressor(n_neighbors=5))  # tu peux ajuster k\n",
    "])\n",
    "\n",
    "#  Entraînement\n",
    "knn_pipeline.fit(X_train, y_train)\n",
    "\n",
    "#  Prédictions\n",
    "y_pred_knn = knn_pipeline.predict(X_test)\n",
    "\n",
    "#  Évaluation\n",
    "print(\"KNN MAE :\", mean_absolute_error(y_test, y_pred_knn))\n",
    "print(\"KNN RMSE:\", mean_squared_error(y_test, y_pred_knn, squared=False))\n",
    "print(\" KNN R²  :\", r2_score(y_test, y_pred_knn))\n",
    "y_train_pred_knn = knn_pipeline.predict(X_train)\n",
    "\n",
    "print(\"KNN - R² Train :\", r2_score(y_train, y_train_pred_knn))\n",
    "print(\"KNN - R² Test  :\", r2_score(y_test, y_pred_knn))\n",
    "\n"
   ]
  }
 ],
 "metadata": {
  "kernelspec": {
   "display_name": "base",
   "language": "python",
   "name": "python3"
  },
  "language_info": {
   "codemirror_mode": {
    "name": "ipython",
    "version": 3
   },
   "file_extension": ".py",
   "mimetype": "text/x-python",
   "name": "python",
   "nbconvert_exporter": "python",
   "pygments_lexer": "ipython3",
   "version": "3.12.3"
  }
 },
 "nbformat": 4,
 "nbformat_minor": 5
}
