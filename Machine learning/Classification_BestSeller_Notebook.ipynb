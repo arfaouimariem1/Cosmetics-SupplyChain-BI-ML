{
 "cells": [
  {
   "cell_type": "markdown",
   "metadata": {},
   "source": [
    "# Supervisé : Classification  "
   ]
  },
  {
   "cell_type": "markdown",
   "metadata": {},
   "source": [
    "# Classification des produits BestSeller ou non (SVM, KNN, Logistic regression)\n"
   ]
  },
  {
   "cell_type": "code",
   "execution_count": 42,
   "metadata": {},
   "outputs": [],
   "source": [
    "#  Importations\n",
    "import pandas as pd\n",
    "import numpy as np\n",
    "import matplotlib.pyplot as plt\n",
    "import seaborn as sns\n",
    "from sklearn.linear_model import LogisticRegression\n",
    "from sklearn.neighbors import KNeighborsClassifier\n",
    "from sklearn.svm import SVC\n",
    "from sklearn.preprocessing import OneHotEncoder, StandardScaler\n",
    "from sklearn.model_selection import train_test_split\n",
    "from sklearn.metrics import classification_report, accuracy_score\n",
    "import pyodbc"
   ]
  },
  {
   "cell_type": "code",
   "execution_count": 43,
   "metadata": {},
   "outputs": [
    {
     "name": "stderr",
     "output_type": "stream",
     "text": [
      "C:\\Users\\user\\AppData\\Local\\Temp\\ipykernel_21912\\1182364240.py:30: UserWarning: pandas only supports SQLAlchemy connectable (engine/connection) or database string URI or sqlite3 DBAPI2 connection. Other DBAPI2 objects are not tested. Please consider using SQLAlchemy.\n",
      "  df = pd.read_sql(query, conn)\n"
     ]
    }
   ],
   "source": [
    "# Connexion au Data Warehouse\n",
    "conn = pyodbc.connect(\n",
    "    'DRIVER={SQL Server};SERVER=localhost;DATABASE=SuplyChain_DataWarehouse;Trusted_Connection=yes;'\n",
    ")\n",
    "query = \"\"\"\n",
    "SELECT \n",
    "    fs.Product_PK,\n",
    "    SUM(fs.Quantite) AS TotalQuantity,\n",
    "    cat.Category AS ProductCategory,\n",
    "    b.brandname AS Brand,\n",
    "    shop.shopname AS Shop,\n",
    "    d.Year, d.Month,\n",
    "    DATEDIFF(DAY, prod.ProductionStartDate_PK, prod.ProductionEndDate_PK) AS ProductionDuration,\n",
    "    (\n",
    "        SELECT COUNT(*) \n",
    "        FROM Fact_Dosage fd \n",
    "        WHERE fd.Prod_FK = p.Product_PK\n",
    "    ) AS NbMaterials\n",
    "FROM Fact_Sales fs\n",
    "JOIN Dim_Product p ON fs.Product_PK = p.Product_PK\n",
    "JOIN Dim_Category cat ON p.Category_FK = cat.Category_PK\n",
    "JOIN Dim_Brand b ON p.Brand_FK = b.Brand_PK\n",
    "JOIN Dim_Shop shop ON fs.Shop_PK = shop.Shop_PK\n",
    "JOIN Dim_Date d ON fs.Date_FK = d.Date_PK\n",
    "LEFT JOIN fact_production prod ON prod.Product_PK = fs.Product_PK\n",
    "GROUP BY \n",
    "    fs.Product_PK, cat.Category, b.brandname, shop.shopname, d.Year, d.Month,\n",
    "    prod.ProductionStartDate_PK, prod.ProductionEndDate_PK, p.Product_PK\n",
    "\"\"\"\n",
    "df = pd.read_sql(query, conn)\n",
    "conn.close()"
   ]
  },
  {
   "cell_type": "code",
   "execution_count": 44,
   "metadata": {},
   "outputs": [],
   "source": [
    "#  Nettoyage et cible\n",
    "df.fillna({'ProductionDuration': 0, 'NbMaterials': 0}, inplace=True)\n",
    "threshold = df['TotalQuantity'].mean()\n",
    "df['BestSeller'] = (df['TotalQuantity'] > threshold).astype(int)\n",
    "X = df.drop(columns=['Product_PK', 'TotalQuantity', 'BestSeller'])\n",
    "y = df['BestSeller']"
   ]
  },
  {
   "cell_type": "code",
   "execution_count": 45,
   "metadata": {},
   "outputs": [],
   "source": [
    "#  Encodage One-Hot & Normalisation\n",
    "cat_cols = X.select_dtypes(include='object').columns.tolist()\n",
    "num_cols = X.select_dtypes(exclude='object').columns.tolist()\n",
    "encoder = OneHotEncoder(sparse_output=False, handle_unknown='ignore')\n",
    "X_encoded_cat = encoder.fit_transform(X[cat_cols])\n",
    "scaler = StandardScaler()\n",
    "X_scaled_num = scaler.fit_transform(X[num_cols])\n",
    "X_final = np.concatenate([X_scaled_num, X_encoded_cat], axis=1)\n",
    "X_train, X_test, y_train, y_test = train_test_split(X_final, y, test_size=0.2, random_state=42)"
   ]
  },
  {
   "cell_type": "code",
   "execution_count": 46,
   "metadata": {},
   "outputs": [
    {
     "name": "stdout",
     "output_type": "stream",
     "text": [
      "\n",
      " Logistic Regression\n",
      "Accuracy: 0.9230769230769231\n",
      "              precision    recall  f1-score   support\n",
      "\n",
      "           0       0.94      0.93      0.94       293\n",
      "           1       0.89      0.91      0.90       188\n",
      "\n",
      "    accuracy                           0.92       481\n",
      "   macro avg       0.92      0.92      0.92       481\n",
      "weighted avg       0.92      0.92      0.92       481\n",
      "\n"
     ]
    }
   ],
   "source": [
    "#  Logistic Regression\n",
    "log_model = LogisticRegression()\n",
    "log_model.fit(X_train, y_train)\n",
    "y_pred_log = log_model.predict(X_test)\n",
    "print(\"\\n Logistic Regression\")\n",
    "print(\"Accuracy:\", accuracy_score(y_test, y_pred_log))\n",
    "print(classification_report(y_test, y_pred_log))"
   ]
  },
  {
   "cell_type": "code",
   "execution_count": 47,
   "metadata": {},
   "outputs": [
    {
     "name": "stdout",
     "output_type": "stream",
     "text": [
      "\n",
      " KNN\n",
      "Accuracy: 0.9896049896049897\n"
     ]
    }
   ],
   "source": [
    "#  KNN\n",
    "knn_model = KNeighborsClassifier(n_neighbors=5)\n",
    "knn_model.fit(X_train, y_train)\n",
    "y_pred_knn = knn_model.predict(X_test)\n",
    "print(\"\\n KNN\")\n",
    "print(\"Accuracy:\", accuracy_score(y_test, y_pred_knn))\n"
   ]
  },
  {
   "cell_type": "code",
   "execution_count": 48,
   "metadata": {},
   "outputs": [
    {
     "name": "stdout",
     "output_type": "stream",
     "text": [
      "\n",
      " SVM avec kernel = 'linear'\n",
      "Accuracy: 0.9501039501039501\n",
      "              precision    recall  f1-score   support\n",
      "\n",
      "           0       1.00      0.92      0.96       293\n",
      "           1       0.89      0.99      0.94       188\n",
      "\n",
      "    accuracy                           0.95       481\n",
      "   macro avg       0.94      0.96      0.95       481\n",
      "weighted avg       0.95      0.95      0.95       481\n",
      "\n",
      "\n",
      " SVM avec kernel = 'sigmoid'\n",
      "Accuracy: 0.7027027027027027\n",
      "              precision    recall  f1-score   support\n",
      "\n",
      "           0       0.78      0.71      0.74       293\n",
      "           1       0.60      0.69      0.65       188\n",
      "\n",
      "    accuracy                           0.70       481\n",
      "   macro avg       0.69      0.70      0.69       481\n",
      "weighted avg       0.71      0.70      0.71       481\n",
      "\n"
     ]
    }
   ],
   "source": [
    "#  SVM (linear & sigmoid)\n",
    "kernels = ['linear', 'sigmoid']\n",
    "for kernel in kernels:\n",
    "    print(f\"\\n SVM avec kernel = '{kernel}'\")\n",
    "    svm_model = SVC(kernel=kernel, C=1, gamma='scale')\n",
    "    svm_model.fit(X_train, y_train)\n",
    "    y_pred_svm = svm_model.predict(X_test)\n",
    "    print(\"Accuracy:\", accuracy_score(y_test, y_pred_svm))\n",
    "    print(classification_report(y_test, y_pred_svm))"
   ]
  },
  {
   "cell_type": "code",
   "execution_count": 49,
   "metadata": {},
   "outputs": [
    {
     "data": {
      "image/png": "[encoded data removed]",
      "text/plain": [
       "<Figure size 640x480 with 1 Axes>"
      ]
     },
     "metadata": {},
     "output_type": "display_data"
    }
   ],
   "source": [
    "#  Distribution de la cible\n",
    "sns.countplot(x='BestSeller', data=df)\n",
    "plt.title('Distribution des produits BestSeller vs Non-BestSeller')\n",
    "plt.xlabel('BestSeller (0 = non, 1 = oui)')\n",
    "plt.ylabel('Nombre de produits')\n",
    "plt.show()"
   ]
  }
 ],
 "metadata": {
  "kernelspec": {
   "display_name": "base",
   "language": "python",
   "name": "python3"
  },
  "language_info": {
   "codemirror_mode": {
    "name": "ipython",
    "version": 3
   },
   "file_extension": ".py",
   "mimetype": "text/x-python",
   "name": "python",
   "nbconvert_exporter": "python",
   "pygments_lexer": "ipython3",
   "version": "3.12.3"
  }
 },
 "nbformat": 4,
 "nbformat_minor": 2
}
