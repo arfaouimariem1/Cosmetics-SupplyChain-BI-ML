{
 "cells": [
  {
   "cell_type": "code",
   "execution_count": 2,
   "id": "d3694ef9",
   "metadata": {},
   "outputs": [
    {
     "name": "stderr",
     "output_type": "stream",
     "text": [
      "C:\\Users\\user\\AppData\\Local\\Temp\\ipykernel_760\\1247888719.py:35: UserWarning: pandas only supports SQLAlchemy connectable (engine/connection) or database string URI or sqlite3 DBAPI2 connection. Other DBAPI2 objects are not tested. Please consider using SQLAlchemy.\n",
      "  df = pd.read_sql(query, conn)\n"
     ]
    },
    {
     "name": "stdout",
     "output_type": "stream",
     "text": [
      "✅ MSE: 11.08\n",
      "✅ R²: 0.3868\n"
     ]
    }
   ],
   "source": [
    "# 📦 Imports\n",
    "import pandas as pd\n",
    "import pyodbc\n",
    "from sklearn.model_selection import train_test_split\n",
    "from sklearn.preprocessing import LabelEncoder, StandardScaler\n",
    "from sklearn.ensemble import RandomForestRegressor\n",
    "from sklearn.metrics import mean_squared_error, r2_score\n",
    "\n",
    "# 🔌 Connexion SQL Server\n",
    "conn = pyodbc.connect(\n",
    "    'DRIVER={SQL Server};'\n",
    "    'SERVER=DESKTOP-H2KFI66\\FA;'\n",
    "    'DATABASE=fffffffff;'\n",
    "    'Trusted_Connection=yes;'\n",
    ")\n",
    "\n",
    "# 📥 Requête SQL\n",
    "query = \"\"\"\n",
    "SELECT \n",
    "    p.Product_PK,\n",
    "    cat.Category AS ProductCategory,\n",
    "    b.brandname AS Brand,\n",
    "    u.Unit AS UnitMesure,\n",
    "    COUNT(fd.Material_FK) AS NbMaterials,\n",
    "    SUM(fd.Dosage) AS TotalDosage\n",
    "FROM Fact_Dosage fd\n",
    "JOIN Dim_Product p ON p.Product_PK = fd.Prod_FK\n",
    "JOIN Dim_Category cat ON cat.Category_PK = p.Category_FK\n",
    "JOIN Dim_Brand b ON b.Brand_PK = p.Brand_FK\n",
    "JOIN Dim_Unit u ON u.Unit_PK = fd.Unit_FK\n",
    "GROUP BY p.Product_PK, cat.Category, b.brandname, u.Unit\n",
    "\"\"\"\n",
    "\n",
    "# 📤 Lecture des données\n",
    "df = pd.read_sql(query, conn)\n",
    "conn.close()\n",
    "\n",
    "# Nouvelle Feature\n",
    "df[\"MoyenneDosage\"] = df[\"TotalDosage\"] / df[\"NbMaterials\"]\n",
    "# 🧹 Nettoyage\n",
    "df.dropna(inplace=True)\n",
    "\n",
    "# 🏷️ Encodage des variables catégorielles\n",
    "for col in ['ProductCategory', 'Brand', 'UnitMesure' , 'MoyenneDosage']:\n",
    "    le = LabelEncoder()\n",
    "    df[col] = le.fit_transform(df[col])\n",
    "\n",
    "# 🧪 Séparation features / target\n",
    "X = df[['ProductCategory', 'Brand', 'UnitMesure', 'NbMaterials']]\n",
    "y = df['TotalDosage']\n",
    "\n",
    "# 🧼 Normalisation\n",
    "scaler = StandardScaler()\n",
    "X_scaled = scaler.fit_transform(X)\n",
    "\n",
    "# ✂️ Split Train/Test\n",
    "X_train, X_test, y_train, y_test = train_test_split(X_scaled, y, test_size=0.2, random_state=42)\n",
    "\n",
    "# 🌲 Modèle Random Forest\n",
    "model = RandomForestRegressor(n_estimators=200, max_depth=10, random_state=42)\n",
    "model.fit(X_train, y_train)\n",
    "\n",
    "# 🔮 Prédictions\n",
    "y_pred = model.predict(X_test)\n",
    "\n",
    "# 📊 Évaluation\n",
    "mse = mean_squared_error(y_test, y_pred)\n",
    "r2 = r2_score(y_test, y_pred)\n",
    "\n",
    "print(f\"✅ MSE: {mse:.2f}\")\n",
    "print(f\"✅ R²: {r2:.4f}\")\n"
   ]
  },
  {
   "cell_type": "code",
   "execution_count": 7,
   "id": "492da0d1",
   "metadata": {},
   "outputs": [
    {
     "name": "stdout",
     "output_type": "stream",
     "text": [
      "\n",
      "📌 Linear Regression améliorée\n",
      "✅ MSE: 11.20\n",
      "✅ R²: 0.3798\n"
     ]
    },
    {
     "name": "stderr",
     "output_type": "stream",
     "text": [
      "C:\\Users\\user\\AppData\\Local\\Temp\\ipykernel_760\\38934063.py:33: UserWarning: pandas only supports SQLAlchemy connectable (engine/connection) or database string URI or sqlite3 DBAPI2 connection. Other DBAPI2 objects are not tested. Please consider using SQLAlchemy.\n",
      "  df = pd.read_sql(query, conn)\n"
     ]
    }
   ],
   "source": [
    "from sklearn.compose import ColumnTransformer\n",
    "from sklearn.preprocessing import OneHotEncoder\n",
    "from sklearn.pipeline import Pipeline\n",
    "from sklearn.ensemble import RandomForestRegressor\n",
    "from sklearn.linear_model import LinearRegression\n",
    "from xgboost import XGBRegressor\n",
    "from sklearn.metrics import mean_squared_error, r2_score\n",
    "from sklearn.model_selection import train_test_split\n",
    "import pandas as pd\n",
    "import pyodbc\n",
    "\n",
    "# Connexion SQL\n",
    "conn = pyodbc.connect(\n",
    "    'DRIVER={SQL Server};SERVER=DESKTOP-H2KFI66\\FA;DATABASE=fffffffff;Trusted_Connection=yes;'\n",
    ")\n",
    "\n",
    "query = \"\"\"\n",
    "SELECT \n",
    "    p.Product_PK,\n",
    "    cat.Category AS ProductCategory,\n",
    "    b.brandname AS Brand,\n",
    "    u.Unit AS Unit,\n",
    "    COUNT(fd.Material_FK) AS NbMaterials,\n",
    "    SUM(fd.Dosage) AS TotalDosage\n",
    "FROM Fact_Dosage fd\n",
    "JOIN Dim_Product p ON p.Product_PK = fd.Prod_FK\n",
    "JOIN Dim_Category cat ON cat.Category_PK = p.Category_FK\n",
    "JOIN Dim_Brand b ON b.Brand_PK = p.Brand_FK\n",
    "JOIN Dim_Unit u ON u.Unit_PK = fd.Unit_FK\n",
    "GROUP BY p.Product_PK, cat.Category, b.brandname, u.Unit\n",
    "\"\"\"\n",
    "\n",
    "df = pd.read_sql(query, conn)\n",
    "conn.close()\n",
    "\n",
    "# Nouvelle Feature\n",
    "df[\"MoyenneDosage\"] = df[\"TotalDosage\"] / df[\"NbMaterials\"]\n",
    "\n",
    "# === Linear Regression avec OneHotEncoding ===\n",
    "features = [\"ProductCategory\", \"Brand\", \"Unit\", \"NbMaterials\"]\n",
    "X = df[features]\n",
    "y = df[\"TotalDosage\"]\n",
    "\n",
    "# Préprocessing : OneHotEncode les cat features pour Linear Regression\n",
    "preprocessor = ColumnTransformer(\n",
    "    transformers=[\n",
    "        ('cat', OneHotEncoder(handle_unknown='ignore'), [\"ProductCategory\", \"Brand\", \"Unit\"]),\n",
    "        ('num', 'passthrough', [\"NbMaterials\"])\n",
    "    ]\n",
    ")\n",
    "\n",
    "pipeline_lr = Pipeline(steps=[\n",
    "    ('preproc', preprocessor),\n",
    "    ('regressor', LinearRegression())\n",
    "])\n",
    "\n",
    "# Split\n",
    "X_train, X_test, y_train, y_test = train_test_split(X, y, test_size=0.2, random_state=42)\n",
    "\n",
    "# Entraînement Linear Regression\n",
    "pipeline_lr.fit(X_train, y_train)\n",
    "y_pred_lr = pipeline_lr.predict(X_test)\n",
    "\n",
    "print(\"\\n📌 Linear Regression améliorée\")\n",
    "print(f\"✅ MSE: {mean_squared_error(y_test, y_pred_lr):.2f}\")\n",
    "print(f\"✅ R²: {r2_score(y_test, y_pred_lr):.4f}\")\n",
    "\n"
   ]
  },
  {
   "cell_type": "code",
   "execution_count": 6,
   "id": "ea9f1e7c",
   "metadata": {},
   "outputs": [
    {
     "name": "stdout",
     "output_type": "stream",
     "text": [
      "✅ MSE: 1.0268\n",
      "✅ R²: 0.9432\n"
     ]
    },
    {
     "name": "stderr",
     "output_type": "stream",
     "text": [
      "C:\\Users\\user\\anaconda3\\Lib\\site-packages\\IPython\\core\\pylabtools.py:152: UserWarning: Glyph 128202 (\\N{BAR CHART}) missing from current font.\n",
      "  fig.canvas.print_figure(bytes_io, **kw)\n"
     ]
    },
    {
     "data": {
      "image/png": "[encoded data removed]",
      "text/plain": [
       "<Figure size 640x480 with 1 Axes>"
      ]
     },
     "metadata": {},
     "output_type": "display_data"
    }
   ],
   "source": [
    "# === XGBoost avec LabelEncoding ===\n",
    "from sklearn.model_selection import train_test_split\n",
    "from sklearn.preprocessing import LabelEncoder\n",
    "from xgboost import XGBRegressor\n",
    "from sklearn.metrics import mean_squared_error, r2_score\n",
    "\n",
    "df_encoded = df.copy()\n",
    "for col in [\"ProductCategory\", \"Brand\", \"Unit\"]:\n",
    "    df_encoded[col] = LabelEncoder().fit_transform(df_encoded[col])\n",
    "\n",
    "features_xgb = [\"ProductCategory\", \"Brand\", \"Unit\", \"NbMaterials\", \"MoyenneDosage\"]\n",
    "X_xgb = df_encoded[features_xgb]\n",
    "y_xgb = df_encoded[\"TotalDosage\"]\n",
    "\n",
    "# Split the data into training and testing sets\n",
    "X_train_xgb, X_test_xgb, y_train_xgb, y_test_xgb = train_test_split(\n",
    "    X_xgb, y_xgb, test_size=0.2, random_state=42\n",
    ")\n",
    "\n",
    "xgb_tuned = XGBRegressor(\n",
    "    n_estimators=50,  # Réduire le nombre d'arbres\n",
    "    max_depth=2,      # Garder une profondeur faible\n",
    "    learning_rate=0.05,  # Réduire le taux d'apprentissage\n",
    "    subsample=0.8,    # Utiliser seulement 80% des données pour chaque arbre\n",
    "    colsample_bytree=0.8,  # Utiliser seulement 80% des features pour chaque arbre\n",
    "    random_state=42\n",
    ")\n",
    "xgb_tuned.fit(X_train_xgb, y_train_xgb)\n",
    "y_pred_tuned = xgb_tuned.predict(X_test_xgb)\n",
    "\n",
    "print(f\"✅ MSE: {mean_squared_error(y_test_xgb, y_pred_tuned):.4f}\")\n",
    "print(f\"✅ R²: {r2_score(y_test_xgb, y_pred_tuned):.4f}\")\n",
    "\n",
    "from xgboost import plot_importance\n",
    "import matplotlib.pyplot as plt\n",
    "\n",
    "plot_importance(xgb_tuned)  # Changed 'xgb' to 'xgb_tuned' to match your model variable\n",
    "plt.title(\"📊 Importance des variables (XGBoost)\")\n",
    "plt.show()"
   ]
  },
  {
   "cell_type": "code",
   "execution_count": null,
   "id": "70e2b839",
   "metadata": {},
   "outputs": [],
   "source": []
  }
 ],
 "metadata": {
  "kernelspec": {
   "display_name": "Python 3 (ipykernel)",
   "language": "python",
   "name": "python3"
  },
  "language_info": {
   "codemirror_mode": {
    "name": "ipython",
    "version": 3
   },
   "file_extension": ".py",
   "mimetype": "text/x-python",
   "name": "python",
   "nbconvert_exporter": "python",
   "pygments_lexer": "ipython3",
   "version": "3.11.5"
  }
 },
 "nbformat": 4,
 "nbformat_minor": 5
}
