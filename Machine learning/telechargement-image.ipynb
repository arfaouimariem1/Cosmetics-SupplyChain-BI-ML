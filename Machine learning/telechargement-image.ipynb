{
 "cells": [
  {
   "cell_type": "code",
   "execution_count": 10,
   "id": "0c16c749",
   "metadata": {},
   "outputs": [
    {
     "name": "stdout",
     "output_type": "stream",
     "text": [
      "✅ Insertion terminée avec succès !\n"
     ]
    }
   ],
   "source": [
    "import os\n",
    "import pyodbc\n",
    "\n",
    "#  Connexion SQL\n",
    "conn = pyodbc.connect(\n",
    "    'DRIVER={SQL Server};'\n",
    "    'SERVER=DESKTOP-8C3VSOH;'\n",
    "    'DATABASE=SuplyChain_DataWarehouse;'\n",
    "    'Trusted_Connection=yes;'\n",
    ")\n",
    "\n",
    "cursor = conn.cursor()\n",
    "\n",
    "\n",
    "\n",
    "# Fonction pour insérer une image\n",
    "def insert_image(path, label, dataset_type):\n",
    "    with open(path, 'rb') as f:\n",
    "        binary_data = f.read()\n",
    "    filename = os.path.basename(path)\n",
    "    cursor.execute(\"\"\"\n",
    "        INSERT INTO Images (filename, label, image, dataset_type)\n",
    "        VALUES (?, ?, ?, ?)\n",
    "    \"\"\", filename, label, binary_data, dataset_type)\n",
    "\n",
    "# Chemin du dossier principal contenant train/valid/test\n",
    "base_root = r\"C:\\Users\\user\\Desktop\\ex\"  # ⚠️ adapte à ton chemin exact\n",
    "\n",
    "# Parcours des 3 sous-dossiers : train, valid, test\n",
    "for dataset_type in [\"train\", \"valid\", \"test\"]:\n",
    "    base_path = os.path.join(base_root, dataset_type)\n",
    "    for label in [\"damagedpackages\", \"undamagedpackages\"]:\n",
    "        dir_path = os.path.join(base_path, label)\n",
    "        if not os.path.exists(dir_path):\n",
    "            print(f\"❌ Dossier non trouvé : {dir_path}\")\n",
    "            continue\n",
    "        for file in os.listdir(dir_path):\n",
    "            if file.lower().endswith(('.jpg', '.jpeg', '.png')):\n",
    "                try:\n",
    "                    insert_image(os.path.join(dir_path, file), label, dataset_type)\n",
    "                except Exception as e:\n",
    "                    print(f\"Erreur sur {file} : {e}\")\n",
    "\n",
    "# Finalisation\n",
    "conn.commit()\n",
    "cursor.close()\n",
    "conn.close()\n",
    "print(\"✅ Insertion terminée avec succès !\")\n",
    "\n"
   ]
  }
 ],
 "metadata": {
  "kernelspec": {
   "display_name": "base",
   "language": "python",
   "name": "python3"
  },
  "language_info": {
   "codemirror_mode": {
    "name": "ipython",
    "version": 3
   },
   "file_extension": ".py",
   "mimetype": "text/x-python",
   "name": "python",
   "nbconvert_exporter": "python",
   "pygments_lexer": "ipython3",
   "version": "3.12.3"
  }
 },
 "nbformat": 4,
 "nbformat_minor": 5
}
