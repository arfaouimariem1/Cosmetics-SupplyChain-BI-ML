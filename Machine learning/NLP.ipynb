{
 "cells": [
  {
   "cell_type": "markdown",
   "id": "36eb91ea",
   "metadata": {},
   "source": [
    "# Deep : Labelisation de sentiment des cleints selon leurs avis ! "
   ]
  },
  {
   "cell_type": "code",
   "execution_count": 2,
   "id": "b30467a1",
   "metadata": {},
   "outputs": [
    {
     "name": "stderr",
     "output_type": "stream",
     "text": [
      "C:\\Users\\user\\AppData\\Local\\Temp\\ipykernel_25076\\3783323720.py:17: UserWarning: pandas only supports SQLAlchemy connectable (engine/connection) or database string URI or sqlite3 DBAPI2 connection. Other DBAPI2 objects are not tested. Please consider using SQLAlchemy.\n",
      "  df = pd.read_sql(query, conn)\n"
     ]
    },
    {
     "name": "stdout",
     "output_type": "stream",
     "text": [
      "WARNING:tensorflow:From c:\\Users\\user\\anaconda3\\Lib\\site-packages\\tf_keras\\src\\losses.py:2976: The name tf.losses.sparse_softmax_cross_entropy is deprecated. Please use tf.compat.v1.losses.sparse_softmax_cross_entropy instead.\n",
      "\n"
     ]
    },
    {
     "name": "stderr",
     "output_type": "stream",
     "text": [
      "Device set to use cpu\n"
     ]
    },
    {
     "name": "stdout",
     "output_type": "stream",
     "text": [
      " Sentiments insérés dans Dim_Sentiment avec succès.\n"
     ]
    }
   ],
   "source": [
    "import pyodbc\n",
    "import pandas as pd\n",
    "from transformers import pipeline\n",
    "\n",
    "#  Connexion SQL Server\n",
    "\n",
    "  \n",
    "conn = pyodbc.connect(\n",
    "    'DRIVER={SQL Server};SERVER=localhost;DATABASE=SuplyChain_DataWarehouse;Trusted_Connection=yes;'\n",
    "\n",
    "    'DATABASE=TON_DATAWAREHOUSE;'\n",
    "    'Trusted_Connection=yes;'\n",
    ")\n",
    "\n",
    "# 1. Récupérer les avis\n",
    "query = \"SELECT Avis_PK, avis FROM Dim_Avis;\"\n",
    "df = pd.read_sql(query, conn)\n",
    "\n",
    "#  2. Charger le modèle de sentiment\n",
    "classifier = pipeline(\n",
    "    \"sentiment-analysis\",\n",
    "    model=\"nlptown/bert-base-multilingual-uncased-sentiment\",\n",
    "    device=-1\n",
    ")\n",
    "\n",
    "#  3. Mapper les labels vers des sentiments FR\n",
    "def map_stars_to_sentiment(label):\n",
    "    if '1' in label or '2' in label:\n",
    "        return 'NEGATIVE'\n",
    "    elif '3' in label:\n",
    "        return 'NEUTRAL'\n",
    "    else:\n",
    "        return 'POSITIVE'\n",
    "\n",
    "#  4. Appliquer l’analyse de sentiment\n",
    "df['stars'] = df['avis'].apply(lambda x: classifier(x[:512])[0]['label'])\n",
    "df['sentiment'] = df['stars'].apply(map_stars_to_sentiment)\n",
    "\n",
    "#  5. Créer la table SQL si elle n'existe pas\n",
    "cursor = conn.cursor()\n",
    "cursor.execute(\"\"\"\n",
    "IF OBJECT_ID('Dim_Sentiment', 'U') IS NULL\n",
    "CREATE TABLE Dim_Sentiment (\n",
    "    Avis_PK INT PRIMARY KEY,\n",
    "    sentiment VARCHAR(20)\n",
    ");\n",
    "\"\"\")\n",
    "\n",
    "#  6. Insérer ou mettre à jour les sentiments\n",
    "for index, row in df.iterrows():\n",
    "    cursor.execute(\"\"\"\n",
    "        MERGE Dim_Sentiment AS target\n",
    "        USING (SELECT ? AS Avis_PK, ? AS sentiment) AS source\n",
    "        ON target.Avis_PK = source.Avis_PK\n",
    "        WHEN MATCHED THEN\n",
    "            UPDATE SET sentiment = source.sentiment\n",
    "        WHEN NOT MATCHED THEN\n",
    "            INSERT (Avis_PK, sentiment) VALUES (source.Avis_PK, source.sentiment);\n",
    "    \"\"\", row.Avis_PK, row.sentiment)\n",
    "\n",
    "conn.commit()\n",
    "cursor.close()\n",
    "conn.close()\n",
    "\n",
    "print(\" Sentiments insérés dans Dim_Sentiment avec succès.\")\n"
   ]
  },
  {
   "cell_type": "markdown",
   "id": "1e38a9bb",
   "metadata": {},
   "source": [
    "# Sentiment : faché happy !! "
   ]
  },
  {
   "cell_type": "code",
   "execution_count": 3,
   "id": "14ef6ec4",
   "metadata": {},
   "outputs": [
    {
     "name": "stderr",
     "output_type": "stream",
     "text": [
      "C:\\Users\\user\\AppData\\Local\\Temp\\ipykernel_3076\\1356505004.py:15: UserWarning: pandas only supports SQLAlchemy connectable (engine/connection) or database string URI or sqlite3 DBAPI2 connection. Other DBAPI2 objects are not tested. Please consider using SQLAlchemy.\n",
      "  df = pd.read_sql(query, conn)\n",
      "Device set to use cpu\n"
     ]
    },
    {
     "name": "stdout",
     "output_type": "stream",
     "text": [
      " Émotions insérées avec succès dans Dim_Emotion.\n"
     ]
    }
   ],
   "source": [
    "import pyodbc\n",
    "import pandas as pd\n",
    "from transformers import pipeline\n",
    "\n",
    "#  Connexion à SQL Server\n",
    "conn = pyodbc.connect(\n",
    "    'DRIVER={SQL Server};SERVER=localhost;DATABASE=SuplyChain_DataWarehouse;Trusted_Connection=yes;'\n",
    "\n",
    "    'DATABASE=TON_DATAWAREHOUSE;'\n",
    "    'Trusted_Connection=yes;'\n",
    ")\n",
    "\n",
    "#  1. Récupérer les avis\n",
    "query = \"SELECT Avis_PK, avis FROM Dim_Avis;\"\n",
    "df = pd.read_sql(query, conn)\n",
    "\n",
    "#  2. Charger le modèle d'émotions\n",
    "classifier = pipeline(\n",
    "    \"text-classification\",\n",
    "    model=\"j-hartmann/emotion-english-distilroberta-base\",\n",
    "    device=-1\n",
    ")\n",
    "\n",
    "#  3. Appliquer la prédiction d'émotion\n",
    "df['emotion'] = df['avis'].apply(lambda text: classifier(text[:512])[0]['label'])\n",
    "\n",
    "#  4. Créer la table Dim_Emotion si elle n'existe pas\n",
    "cursor = conn.cursor()\n",
    "cursor.execute(\"\"\"\n",
    "IF OBJECT_ID('Dim_Emotion', 'U') IS NULL\n",
    "CREATE TABLE Dim_Emotion (\n",
    "    Avis_PK INT PRIMARY KEY,\n",
    "    emotion VARCHAR(50)\n",
    ");\n",
    "\"\"\")\n",
    "\n",
    "#  5. Insérer ou mettre à jour les émotions dans SQL\n",
    "for index, row in df.iterrows():\n",
    "    cursor.execute(\"\"\"\n",
    "        MERGE Dim_Emotion AS target\n",
    "        USING (SELECT ? AS Avis_PK, ? AS emotion) AS source\n",
    "        ON target.Avis_PK = source.Avis_PK\n",
    "        WHEN MATCHED THEN\n",
    "            UPDATE SET emotion = source.emotion\n",
    "        WHEN NOT MATCHED THEN\n",
    "            INSERT (Avis_PK, emotion) VALUES (source.Avis_PK, source.emotion);\n",
    "    \"\"\", row.Avis_PK, row.emotion)\n",
    "\n",
    "conn.commit()\n",
    "cursor.close()\n",
    "conn.close()\n",
    "\n",
    "print(\" Émotions insérées avec succès dans Dim_Emotion.\")\n"
   ]
  }
 ],
 "metadata": {
  "kernelspec": {
   "display_name": "base",
   "language": "python",
   "name": "python3"
  },
  "language_info": {
   "codemirror_mode": {
    "name": "ipython",
    "version": 3
   },
   "file_extension": ".py",
   "mimetype": "text/x-python",
   "name": "python",
   "nbconvert_exporter": "python",
   "pygments_lexer": "ipython3",
   "version": "3.12.3"
  }
 },
 "nbformat": 4,
 "nbformat_minor": 5
}
